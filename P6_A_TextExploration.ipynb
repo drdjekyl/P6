{
 "cells": [
  {
   "cell_type": "markdown",
   "metadata": {},
   "source": [
    "**I. Loading dataset**"
   ]
  },
  {
   "cell_type": "code",
   "execution_count": 35,
   "metadata": {
    "ExecuteTime": {
     "end_time": "2021-02-23T08:56:42.214686Z",
     "start_time": "2021-02-23T08:56:42.141882Z"
    }
   },
   "outputs": [
    {
     "data": {
      "text/html": [
       "<div>\n",
       "<style scoped>\n",
       "    .dataframe tbody tr th:only-of-type {\n",
       "        vertical-align: middle;\n",
       "    }\n",
       "\n",
       "    .dataframe tbody tr th {\n",
       "        vertical-align: top;\n",
       "    }\n",
       "\n",
       "    .dataframe thead th {\n",
       "        text-align: right;\n",
       "    }\n",
       "</style>\n",
       "<table border=\"1\" class=\"dataframe\">\n",
       "  <thead>\n",
       "    <tr style=\"text-align: right;\">\n",
       "      <th></th>\n",
       "      <th>uniq_id</th>\n",
       "      <th>crawl_timestamp</th>\n",
       "      <th>product_url</th>\n",
       "      <th>product_name</th>\n",
       "      <th>product_category_tree</th>\n",
       "      <th>pid</th>\n",
       "      <th>retail_price</th>\n",
       "      <th>discounted_price</th>\n",
       "      <th>image</th>\n",
       "      <th>is_FK_Advantage_product</th>\n",
       "      <th>description</th>\n",
       "      <th>product_rating</th>\n",
       "      <th>overall_rating</th>\n",
       "      <th>brand</th>\n",
       "      <th>product_specifications</th>\n",
       "    </tr>\n",
       "  </thead>\n",
       "  <tbody>\n",
       "    <tr>\n",
       "      <th>0</th>\n",
       "      <td>55b85ea15a1536d46b7190ad6fff8ce7</td>\n",
       "      <td>2016-04-30 03:22:56 +0000</td>\n",
       "      <td>http://www.flipkart.com/elegance-polyester-mul...</td>\n",
       "      <td>Elegance Polyester Multicolor Abstract Eyelet ...</td>\n",
       "      <td>[\"Home Furnishing &gt;&gt; Curtains &amp; Accessories &gt;&gt;...</td>\n",
       "      <td>CRNEG7BKMFFYHQ8Z</td>\n",
       "      <td>1899.0</td>\n",
       "      <td>899.0</td>\n",
       "      <td>55b85ea15a1536d46b7190ad6fff8ce7.jpg</td>\n",
       "      <td>False</td>\n",
       "      <td>Key Features of Elegance Polyester Multicolor ...</td>\n",
       "      <td>No rating available</td>\n",
       "      <td>No rating available</td>\n",
       "      <td>Elegance</td>\n",
       "      <td>{\"product_specification\"=&gt;[{\"key\"=&gt;\"Brand\", \"v...</td>\n",
       "    </tr>\n",
       "    <tr>\n",
       "      <th>1</th>\n",
       "      <td>7b72c92c2f6c40268628ec5f14c6d590</td>\n",
       "      <td>2016-04-30 03:22:56 +0000</td>\n",
       "      <td>http://www.flipkart.com/sathiyas-cotton-bath-t...</td>\n",
       "      <td>Sathiyas Cotton Bath Towel</td>\n",
       "      <td>[\"Baby Care &gt;&gt; Baby Bath &amp; Skin &gt;&gt; Baby Bath T...</td>\n",
       "      <td>BTWEGFZHGBXPHZUH</td>\n",
       "      <td>600.0</td>\n",
       "      <td>449.0</td>\n",
       "      <td>7b72c92c2f6c40268628ec5f14c6d590.jpg</td>\n",
       "      <td>False</td>\n",
       "      <td>Specifications of Sathiyas Cotton Bath Towel (...</td>\n",
       "      <td>No rating available</td>\n",
       "      <td>No rating available</td>\n",
       "      <td>Sathiyas</td>\n",
       "      <td>{\"product_specification\"=&gt;[{\"key\"=&gt;\"Machine Wa...</td>\n",
       "    </tr>\n",
       "    <tr>\n",
       "      <th>2</th>\n",
       "      <td>64d5d4a258243731dc7bbb1eef49ad74</td>\n",
       "      <td>2016-04-30 03:22:56 +0000</td>\n",
       "      <td>http://www.flipkart.com/eurospa-cotton-terry-f...</td>\n",
       "      <td>Eurospa Cotton Terry Face Towel Set</td>\n",
       "      <td>[\"Baby Care &gt;&gt; Baby Bath &amp; Skin &gt;&gt; Baby Bath T...</td>\n",
       "      <td>BTWEG6SHXTDB2A2Y</td>\n",
       "      <td>NaN</td>\n",
       "      <td>NaN</td>\n",
       "      <td>64d5d4a258243731dc7bbb1eef49ad74.jpg</td>\n",
       "      <td>False</td>\n",
       "      <td>Key Features of Eurospa Cotton Terry Face Towe...</td>\n",
       "      <td>No rating available</td>\n",
       "      <td>No rating available</td>\n",
       "      <td>Eurospa</td>\n",
       "      <td>{\"product_specification\"=&gt;[{\"key\"=&gt;\"Material\",...</td>\n",
       "    </tr>\n",
       "    <tr>\n",
       "      <th>3</th>\n",
       "      <td>d4684dcdc759dd9cdf41504698d737d8</td>\n",
       "      <td>2016-06-20 08:49:52 +0000</td>\n",
       "      <td>http://www.flipkart.com/santosh-royal-fashion-...</td>\n",
       "      <td>SANTOSH ROYAL FASHION Cotton Printed King size...</td>\n",
       "      <td>[\"Home Furnishing &gt;&gt; Bed Linen &gt;&gt; Bedsheets &gt;&gt;...</td>\n",
       "      <td>BDSEJT9UQWHDUBH4</td>\n",
       "      <td>2699.0</td>\n",
       "      <td>1299.0</td>\n",
       "      <td>d4684dcdc759dd9cdf41504698d737d8.jpg</td>\n",
       "      <td>False</td>\n",
       "      <td>Key Features of SANTOSH ROYAL FASHION Cotton P...</td>\n",
       "      <td>No rating available</td>\n",
       "      <td>No rating available</td>\n",
       "      <td>SANTOSH ROYAL FASHION</td>\n",
       "      <td>{\"product_specification\"=&gt;[{\"key\"=&gt;\"Brand\", \"v...</td>\n",
       "    </tr>\n",
       "    <tr>\n",
       "      <th>4</th>\n",
       "      <td>6325b6870c54cd47be6ebfbffa620ec7</td>\n",
       "      <td>2016-06-20 08:49:52 +0000</td>\n",
       "      <td>http://www.flipkart.com/jaipur-print-cotton-fl...</td>\n",
       "      <td>Jaipur Print Cotton Floral King sized Double B...</td>\n",
       "      <td>[\"Home Furnishing &gt;&gt; Bed Linen &gt;&gt; Bedsheets &gt;&gt;...</td>\n",
       "      <td>BDSEJTHNGWVGWWQU</td>\n",
       "      <td>2599.0</td>\n",
       "      <td>698.0</td>\n",
       "      <td>6325b6870c54cd47be6ebfbffa620ec7.jpg</td>\n",
       "      <td>False</td>\n",
       "      <td>Key Features of Jaipur Print Cotton Floral Kin...</td>\n",
       "      <td>No rating available</td>\n",
       "      <td>No rating available</td>\n",
       "      <td>Jaipur Print</td>\n",
       "      <td>{\"product_specification\"=&gt;[{\"key\"=&gt;\"Machine Wa...</td>\n",
       "    </tr>\n",
       "  </tbody>\n",
       "</table>\n",
       "</div>"
      ],
      "text/plain": [
       "                            uniq_id            crawl_timestamp                                        product_url                                       product_name                              product_category_tree               pid  retail_price  discounted_price                                 image  is_FK_Advantage_product                                        description       product_rating       overall_rating                  brand                             product_specifications\n",
       "0  55b85ea15a1536d46b7190ad6fff8ce7  2016-04-30 03:22:56 +0000  http://www.flipkart.com/elegance-polyester-mul...  Elegance Polyester Multicolor Abstract Eyelet ...  [\"Home Furnishing >> Curtains & Accessories >>...  CRNEG7BKMFFYHQ8Z        1899.0             899.0  55b85ea15a1536d46b7190ad6fff8ce7.jpg                    False  Key Features of Elegance Polyester Multicolor ...  No rating available  No rating available               Elegance  {\"product_specification\"=>[{\"key\"=>\"Brand\", \"v...\n",
       "1  7b72c92c2f6c40268628ec5f14c6d590  2016-04-30 03:22:56 +0000  http://www.flipkart.com/sathiyas-cotton-bath-t...                         Sathiyas Cotton Bath Towel  [\"Baby Care >> Baby Bath & Skin >> Baby Bath T...  BTWEGFZHGBXPHZUH         600.0             449.0  7b72c92c2f6c40268628ec5f14c6d590.jpg                    False  Specifications of Sathiyas Cotton Bath Towel (...  No rating available  No rating available               Sathiyas  {\"product_specification\"=>[{\"key\"=>\"Machine Wa...\n",
       "2  64d5d4a258243731dc7bbb1eef49ad74  2016-04-30 03:22:56 +0000  http://www.flipkart.com/eurospa-cotton-terry-f...                Eurospa Cotton Terry Face Towel Set  [\"Baby Care >> Baby Bath & Skin >> Baby Bath T...  BTWEG6SHXTDB2A2Y           NaN               NaN  64d5d4a258243731dc7bbb1eef49ad74.jpg                    False  Key Features of Eurospa Cotton Terry Face Towe...  No rating available  No rating available                Eurospa  {\"product_specification\"=>[{\"key\"=>\"Material\",...\n",
       "3  d4684dcdc759dd9cdf41504698d737d8  2016-06-20 08:49:52 +0000  http://www.flipkart.com/santosh-royal-fashion-...  SANTOSH ROYAL FASHION Cotton Printed King size...  [\"Home Furnishing >> Bed Linen >> Bedsheets >>...  BDSEJT9UQWHDUBH4        2699.0            1299.0  d4684dcdc759dd9cdf41504698d737d8.jpg                    False  Key Features of SANTOSH ROYAL FASHION Cotton P...  No rating available  No rating available  SANTOSH ROYAL FASHION  {\"product_specification\"=>[{\"key\"=>\"Brand\", \"v...\n",
       "4  6325b6870c54cd47be6ebfbffa620ec7  2016-06-20 08:49:52 +0000  http://www.flipkart.com/jaipur-print-cotton-fl...  Jaipur Print Cotton Floral King sized Double B...  [\"Home Furnishing >> Bed Linen >> Bedsheets >>...  BDSEJTHNGWVGWWQU        2599.0             698.0  6325b6870c54cd47be6ebfbffa620ec7.jpg                    False  Key Features of Jaipur Print Cotton Floral Kin...  No rating available  No rating available           Jaipur Print  {\"product_specification\"=>[{\"key\"=>\"Machine Wa..."
      ]
     },
     "execution_count": 35,
     "metadata": {},
     "output_type": "execute_result"
    }
   ],
   "source": [
    "import pandas as pd\n",
    "\n",
    "pd.set_option('display.max_columns', 300)\n",
    "pd.set_option('display.max_rows', 500)\n",
    "pd.set_option('display.width', 500)\n",
    "#pd.set_option('display.max_colwidth', None)\n",
    "\n",
    "df = pd.read_csv('flipkart_com-ecommerce_sample_1050.csv')\n",
    "df.head()"
   ]
  },
  {
   "cell_type": "markdown",
   "metadata": {},
   "source": [
    "**II. Cleaning dataset**"
   ]
  },
  {
   "cell_type": "markdown",
   "metadata": {},
   "source": [
    "*II.1 Infos*"
   ]
  },
  {
   "cell_type": "code",
   "execution_count": 36,
   "metadata": {
    "ExecuteTime": {
     "end_time": "2021-02-23T08:56:44.392534Z",
     "start_time": "2021-02-23T08:56:44.382267Z"
    }
   },
   "outputs": [],
   "source": [
    "# Select text features\n",
    "df = df[['product_name', 'product_category_tree',\n",
    "         'description', 'product_specifications', 'brand']]"
   ]
  },
  {
   "cell_type": "code",
   "execution_count": 37,
   "metadata": {
    "ExecuteTime": {
     "end_time": "2021-02-23T08:56:45.108924Z",
     "start_time": "2021-02-23T08:56:45.087993Z"
    }
   },
   "outputs": [
    {
     "data": {
      "text/plain": [
       "(1050, 5)"
      ]
     },
     "execution_count": 37,
     "metadata": {},
     "output_type": "execute_result"
    }
   ],
   "source": [
    "df.shape"
   ]
  },
  {
   "cell_type": "code",
   "execution_count": 38,
   "metadata": {
    "ExecuteTime": {
     "end_time": "2021-02-23T08:56:45.790403Z",
     "start_time": "2021-02-23T08:56:45.765505Z"
    }
   },
   "outputs": [
    {
     "data": {
      "text/html": [
       "<div>\n",
       "<style scoped>\n",
       "    .dataframe tbody tr th:only-of-type {\n",
       "        vertical-align: middle;\n",
       "    }\n",
       "\n",
       "    .dataframe tbody tr th {\n",
       "        vertical-align: top;\n",
       "    }\n",
       "\n",
       "    .dataframe thead th {\n",
       "        text-align: right;\n",
       "    }\n",
       "</style>\n",
       "<table border=\"1\" class=\"dataframe\">\n",
       "  <thead>\n",
       "    <tr style=\"text-align: right;\">\n",
       "      <th></th>\n",
       "      <th>product_name</th>\n",
       "      <th>product_category_tree</th>\n",
       "      <th>description</th>\n",
       "      <th>product_specifications</th>\n",
       "      <th>brand</th>\n",
       "    </tr>\n",
       "  </thead>\n",
       "  <tbody>\n",
       "    <tr>\n",
       "      <th>0</th>\n",
       "      <td>Elegance Polyester Multicolor Abstract Eyelet ...</td>\n",
       "      <td>[\"Home Furnishing &gt;&gt; Curtains &amp; Accessories &gt;&gt;...</td>\n",
       "      <td>Key Features of Elegance Polyester Multicolor ...</td>\n",
       "      <td>{\"product_specification\"=&gt;[{\"key\"=&gt;\"Brand\", \"v...</td>\n",
       "      <td>Elegance</td>\n",
       "    </tr>\n",
       "    <tr>\n",
       "      <th>1</th>\n",
       "      <td>Sathiyas Cotton Bath Towel</td>\n",
       "      <td>[\"Baby Care &gt;&gt; Baby Bath &amp; Skin &gt;&gt; Baby Bath T...</td>\n",
       "      <td>Specifications of Sathiyas Cotton Bath Towel (...</td>\n",
       "      <td>{\"product_specification\"=&gt;[{\"key\"=&gt;\"Machine Wa...</td>\n",
       "      <td>Sathiyas</td>\n",
       "    </tr>\n",
       "    <tr>\n",
       "      <th>2</th>\n",
       "      <td>Eurospa Cotton Terry Face Towel Set</td>\n",
       "      <td>[\"Baby Care &gt;&gt; Baby Bath &amp; Skin &gt;&gt; Baby Bath T...</td>\n",
       "      <td>Key Features of Eurospa Cotton Terry Face Towe...</td>\n",
       "      <td>{\"product_specification\"=&gt;[{\"key\"=&gt;\"Material\",...</td>\n",
       "      <td>Eurospa</td>\n",
       "    </tr>\n",
       "    <tr>\n",
       "      <th>3</th>\n",
       "      <td>SANTOSH ROYAL FASHION Cotton Printed King size...</td>\n",
       "      <td>[\"Home Furnishing &gt;&gt; Bed Linen &gt;&gt; Bedsheets &gt;&gt;...</td>\n",
       "      <td>Key Features of SANTOSH ROYAL FASHION Cotton P...</td>\n",
       "      <td>{\"product_specification\"=&gt;[{\"key\"=&gt;\"Brand\", \"v...</td>\n",
       "      <td>SANTOSH ROYAL FASHION</td>\n",
       "    </tr>\n",
       "    <tr>\n",
       "      <th>4</th>\n",
       "      <td>Jaipur Print Cotton Floral King sized Double B...</td>\n",
       "      <td>[\"Home Furnishing &gt;&gt; Bed Linen &gt;&gt; Bedsheets &gt;&gt;...</td>\n",
       "      <td>Key Features of Jaipur Print Cotton Floral Kin...</td>\n",
       "      <td>{\"product_specification\"=&gt;[{\"key\"=&gt;\"Machine Wa...</td>\n",
       "      <td>Jaipur Print</td>\n",
       "    </tr>\n",
       "  </tbody>\n",
       "</table>\n",
       "</div>"
      ],
      "text/plain": [
       "                                        product_name                              product_category_tree                                        description                             product_specifications                  brand\n",
       "0  Elegance Polyester Multicolor Abstract Eyelet ...  [\"Home Furnishing >> Curtains & Accessories >>...  Key Features of Elegance Polyester Multicolor ...  {\"product_specification\"=>[{\"key\"=>\"Brand\", \"v...               Elegance\n",
       "1                         Sathiyas Cotton Bath Towel  [\"Baby Care >> Baby Bath & Skin >> Baby Bath T...  Specifications of Sathiyas Cotton Bath Towel (...  {\"product_specification\"=>[{\"key\"=>\"Machine Wa...               Sathiyas\n",
       "2                Eurospa Cotton Terry Face Towel Set  [\"Baby Care >> Baby Bath & Skin >> Baby Bath T...  Key Features of Eurospa Cotton Terry Face Towe...  {\"product_specification\"=>[{\"key\"=>\"Material\",...                Eurospa\n",
       "3  SANTOSH ROYAL FASHION Cotton Printed King size...  [\"Home Furnishing >> Bed Linen >> Bedsheets >>...  Key Features of SANTOSH ROYAL FASHION Cotton P...  {\"product_specification\"=>[{\"key\"=>\"Brand\", \"v...  SANTOSH ROYAL FASHION\n",
       "4  Jaipur Print Cotton Floral King sized Double B...  [\"Home Furnishing >> Bed Linen >> Bedsheets >>...  Key Features of Jaipur Print Cotton Floral Kin...  {\"product_specification\"=>[{\"key\"=>\"Machine Wa...           Jaipur Print"
      ]
     },
     "execution_count": 38,
     "metadata": {},
     "output_type": "execute_result"
    }
   ],
   "source": [
    "df.head()"
   ]
  },
  {
   "cell_type": "code",
   "execution_count": 39,
   "metadata": {
    "ExecuteTime": {
     "end_time": "2021-02-23T08:56:46.710778Z",
     "start_time": "2021-02-23T08:56:46.675620Z"
    }
   },
   "outputs": [
    {
     "name": "stdout",
     "output_type": "stream",
     "text": [
      "<class 'pandas.core.frame.DataFrame'>\n",
      "RangeIndex: 1050 entries, 0 to 1049\n",
      "Data columns (total 5 columns):\n",
      " #   Column                  Non-Null Count  Dtype \n",
      "---  ------                  --------------  ----- \n",
      " 0   product_name            1050 non-null   object\n",
      " 1   product_category_tree   1050 non-null   object\n",
      " 2   description             1050 non-null   object\n",
      " 3   product_specifications  1049 non-null   object\n",
      " 4   brand                   712 non-null    object\n",
      "dtypes: object(5)\n",
      "memory usage: 41.1+ KB\n"
     ]
    }
   ],
   "source": [
    "df.info()"
   ]
  },
  {
   "cell_type": "code",
   "execution_count": 40,
   "metadata": {
    "ExecuteTime": {
     "end_time": "2021-02-23T08:56:47.927050Z",
     "start_time": "2021-02-23T08:56:47.772950Z"
    }
   },
   "outputs": [
    {
     "data": {
      "image/png": "[encoded data removed]",
      "text/plain": [
       "<Figure size 432x288 with 1 Axes>"
      ]
     },
     "metadata": {
      "needs_background": "light"
     },
     "output_type": "display_data"
    }
   ],
   "source": [
    "import matplotlib.pyplot as plt\n",
    "\n",
    "plt.stem(df.isna().sum().index, df.isna().sum().values)\n",
    "plt.title('Number of NA by features')\n",
    "plt.xticks(rotation=90)\n",
    "\n",
    "plt.show()"
   ]
  },
  {
   "cell_type": "code",
   "execution_count": 41,
   "metadata": {
    "ExecuteTime": {
     "end_time": "2021-02-23T08:56:49.087048Z",
     "start_time": "2021-02-23T08:56:49.073551Z"
    }
   },
   "outputs": [
    {
     "data": {
      "text/plain": [
       "product_name                0\n",
       "product_category_tree       0\n",
       "description                 0\n",
       "product_specifications      1\n",
       "brand                     338\n",
       "dtype: int64"
      ]
     },
     "execution_count": 41,
     "metadata": {},
     "output_type": "execute_result"
    }
   ],
   "source": [
    "df.isna().sum()"
   ]
  },
  {
   "cell_type": "markdown",
   "metadata": {},
   "source": [
    "*II.2 NA drop*"
   ]
  },
  {
   "cell_type": "code",
   "execution_count": 42,
   "metadata": {
    "ExecuteTime": {
     "end_time": "2021-02-23T08:56:51.482218Z",
     "start_time": "2021-02-23T08:56:51.441941Z"
    }
   },
   "outputs": [
    {
     "data": {
      "text/html": [
       "<div>\n",
       "<style scoped>\n",
       "    .dataframe tbody tr th:only-of-type {\n",
       "        vertical-align: middle;\n",
       "    }\n",
       "\n",
       "    .dataframe tbody tr th {\n",
       "        vertical-align: top;\n",
       "    }\n",
       "\n",
       "    .dataframe thead th {\n",
       "        text-align: right;\n",
       "    }\n",
       "</style>\n",
       "<table border=\"1\" class=\"dataframe\">\n",
       "  <thead>\n",
       "    <tr style=\"text-align: right;\">\n",
       "      <th></th>\n",
       "      <th>product_name</th>\n",
       "      <th>product_category_tree</th>\n",
       "      <th>description</th>\n",
       "      <th>product_specifications</th>\n",
       "    </tr>\n",
       "  </thead>\n",
       "  <tbody>\n",
       "    <tr>\n",
       "      <th>0</th>\n",
       "      <td>Elegance Polyester Multicolor Abstract Eyelet ...</td>\n",
       "      <td>[\"Home Furnishing &gt;&gt; Curtains &amp; Accessories &gt;&gt;...</td>\n",
       "      <td>Key Features of Elegance Polyester Multicolor ...</td>\n",
       "      <td>{\"product_specification\"=&gt;[{\"key\"=&gt;\"Brand\", \"v...</td>\n",
       "    </tr>\n",
       "    <tr>\n",
       "      <th>1</th>\n",
       "      <td>Sathiyas Cotton Bath Towel</td>\n",
       "      <td>[\"Baby Care &gt;&gt; Baby Bath &amp; Skin &gt;&gt; Baby Bath T...</td>\n",
       "      <td>Specifications of Sathiyas Cotton Bath Towel (...</td>\n",
       "      <td>{\"product_specification\"=&gt;[{\"key\"=&gt;\"Machine Wa...</td>\n",
       "    </tr>\n",
       "    <tr>\n",
       "      <th>2</th>\n",
       "      <td>Eurospa Cotton Terry Face Towel Set</td>\n",
       "      <td>[\"Baby Care &gt;&gt; Baby Bath &amp; Skin &gt;&gt; Baby Bath T...</td>\n",
       "      <td>Key Features of Eurospa Cotton Terry Face Towe...</td>\n",
       "      <td>{\"product_specification\"=&gt;[{\"key\"=&gt;\"Material\",...</td>\n",
       "    </tr>\n",
       "    <tr>\n",
       "      <th>3</th>\n",
       "      <td>SANTOSH ROYAL FASHION Cotton Printed King size...</td>\n",
       "      <td>[\"Home Furnishing &gt;&gt; Bed Linen &gt;&gt; Bedsheets &gt;&gt;...</td>\n",
       "      <td>Key Features of SANTOSH ROYAL FASHION Cotton P...</td>\n",
       "      <td>{\"product_specification\"=&gt;[{\"key\"=&gt;\"Brand\", \"v...</td>\n",
       "    </tr>\n",
       "    <tr>\n",
       "      <th>4</th>\n",
       "      <td>Jaipur Print Cotton Floral King sized Double B...</td>\n",
       "      <td>[\"Home Furnishing &gt;&gt; Bed Linen &gt;&gt; Bedsheets &gt;&gt;...</td>\n",
       "      <td>Key Features of Jaipur Print Cotton Floral Kin...</td>\n",
       "      <td>{\"product_specification\"=&gt;[{\"key\"=&gt;\"Machine Wa...</td>\n",
       "    </tr>\n",
       "    <tr>\n",
       "      <th>...</th>\n",
       "      <td>...</td>\n",
       "      <td>...</td>\n",
       "      <td>...</td>\n",
       "      <td>...</td>\n",
       "    </tr>\n",
       "    <tr>\n",
       "      <th>1045</th>\n",
       "      <td>Oren Empower Extra Large Self Adhesive Sticker</td>\n",
       "      <td>[\"Baby Care &gt;&gt; Baby &amp; Kids Gifts &gt;&gt; Stickers &gt;...</td>\n",
       "      <td>Oren Empower Extra Large Self Adhesive Sticker...</td>\n",
       "      <td>{\"product_specification\"=&gt;[{\"key\"=&gt;\"Number of ...</td>\n",
       "    </tr>\n",
       "    <tr>\n",
       "      <th>1046</th>\n",
       "      <td>Wallmantra Large Vinyl Sticker Sticker</td>\n",
       "      <td>[\"Baby Care &gt;&gt; Baby &amp; Kids Gifts &gt;&gt; Stickers &gt;...</td>\n",
       "      <td>Wallmantra Large Vinyl Sticker Sticker (Pack o...</td>\n",
       "      <td>{\"product_specification\"=&gt;[{\"key\"=&gt;\"Number of ...</td>\n",
       "    </tr>\n",
       "    <tr>\n",
       "      <th>1047</th>\n",
       "      <td>Uberlyfe Extra Large Pigmented Polyvinyl Films...</td>\n",
       "      <td>[\"Baby Care &gt;&gt; Baby &amp; Kids Gifts &gt;&gt; Stickers &gt;...</td>\n",
       "      <td>Buy Uberlyfe Extra Large Pigmented Polyvinyl F...</td>\n",
       "      <td>{\"product_specification\"=&gt;[{\"key\"=&gt;\"Number of ...</td>\n",
       "    </tr>\n",
       "    <tr>\n",
       "      <th>1048</th>\n",
       "      <td>Wallmantra Medium Vinyl Sticker Sticker</td>\n",
       "      <td>[\"Baby Care &gt;&gt; Baby &amp; Kids Gifts &gt;&gt; Stickers &gt;...</td>\n",
       "      <td>Buy Wallmantra Medium Vinyl Sticker Sticker fo...</td>\n",
       "      <td>{\"product_specification\"=&gt;[{\"key\"=&gt;\"Number of ...</td>\n",
       "    </tr>\n",
       "    <tr>\n",
       "      <th>1049</th>\n",
       "      <td>Uberlyfe Large Vinyl Sticker</td>\n",
       "      <td>[\"Baby Care &gt;&gt; Baby &amp; Kids Gifts &gt;&gt; Stickers &gt;...</td>\n",
       "      <td>Buy Uberlyfe Large Vinyl Sticker for Rs.595 on...</td>\n",
       "      <td>{\"product_specification\"=&gt;[{\"key\"=&gt;\"Sales Pack...</td>\n",
       "    </tr>\n",
       "  </tbody>\n",
       "</table>\n",
       "<p>1049 rows × 4 columns</p>\n",
       "</div>"
      ],
      "text/plain": [
       "                                           product_name                              product_category_tree                                        description                             product_specifications\n",
       "0     Elegance Polyester Multicolor Abstract Eyelet ...  [\"Home Furnishing >> Curtains & Accessories >>...  Key Features of Elegance Polyester Multicolor ...  {\"product_specification\"=>[{\"key\"=>\"Brand\", \"v...\n",
       "1                            Sathiyas Cotton Bath Towel  [\"Baby Care >> Baby Bath & Skin >> Baby Bath T...  Specifications of Sathiyas Cotton Bath Towel (...  {\"product_specification\"=>[{\"key\"=>\"Machine Wa...\n",
       "2                   Eurospa Cotton Terry Face Towel Set  [\"Baby Care >> Baby Bath & Skin >> Baby Bath T...  Key Features of Eurospa Cotton Terry Face Towe...  {\"product_specification\"=>[{\"key\"=>\"Material\",...\n",
       "3     SANTOSH ROYAL FASHION Cotton Printed King size...  [\"Home Furnishing >> Bed Linen >> Bedsheets >>...  Key Features of SANTOSH ROYAL FASHION Cotton P...  {\"product_specification\"=>[{\"key\"=>\"Brand\", \"v...\n",
       "4     Jaipur Print Cotton Floral King sized Double B...  [\"Home Furnishing >> Bed Linen >> Bedsheets >>...  Key Features of Jaipur Print Cotton Floral Kin...  {\"product_specification\"=>[{\"key\"=>\"Machine Wa...\n",
       "...                                                 ...                                                ...                                                ...                                                ...\n",
       "1045     Oren Empower Extra Large Self Adhesive Sticker  [\"Baby Care >> Baby & Kids Gifts >> Stickers >...  Oren Empower Extra Large Self Adhesive Sticker...  {\"product_specification\"=>[{\"key\"=>\"Number of ...\n",
       "1046             Wallmantra Large Vinyl Sticker Sticker  [\"Baby Care >> Baby & Kids Gifts >> Stickers >...  Wallmantra Large Vinyl Sticker Sticker (Pack o...  {\"product_specification\"=>[{\"key\"=>\"Number of ...\n",
       "1047  Uberlyfe Extra Large Pigmented Polyvinyl Films...  [\"Baby Care >> Baby & Kids Gifts >> Stickers >...  Buy Uberlyfe Extra Large Pigmented Polyvinyl F...  {\"product_specification\"=>[{\"key\"=>\"Number of ...\n",
       "1048            Wallmantra Medium Vinyl Sticker Sticker  [\"Baby Care >> Baby & Kids Gifts >> Stickers >...  Buy Wallmantra Medium Vinyl Sticker Sticker fo...  {\"product_specification\"=>[{\"key\"=>\"Number of ...\n",
       "1049                       Uberlyfe Large Vinyl Sticker  [\"Baby Care >> Baby & Kids Gifts >> Stickers >...  Buy Uberlyfe Large Vinyl Sticker for Rs.595 on...  {\"product_specification\"=>[{\"key\"=>\"Sales Pack...\n",
       "\n",
       "[1049 rows x 4 columns]"
      ]
     },
     "execution_count": 42,
     "metadata": {},
     "output_type": "execute_result"
    }
   ],
   "source": [
    "# Drop brand column and the unique row with a NA\n",
    "df.drop(columns='brand', inplace=True)\n",
    "df.dropna(inplace=True)\n",
    "\n",
    "df"
   ]
  },
  {
   "cell_type": "markdown",
   "metadata": {},
   "source": [
    "*II.3 Stop words and display topics function*"
   ]
  },
  {
   "cell_type": "code",
   "execution_count": 9,
   "metadata": {
    "ExecuteTime": {
     "end_time": "2021-02-23T08:39:25.498068Z",
     "start_time": "2021-02-23T08:39:23.894152Z"
    }
   },
   "outputs": [],
   "source": [
    "import nltk\n",
    "from nltk.corpus import stopwords\n",
    "\n",
    "\n",
    "def delete_stop_words(df, n):\n",
    "    \"\"\"Function to delete stop words in a dataframe.\n",
    "    The interest of the function : collect most common words and add it to the stopwords set.\n",
    "\n",
    "\n",
    "    Use this function only if list of tokens are stored in pandas cell\n",
    "\n",
    "    Return the new dataframe and the updated stopwords list.\"\"\"\n",
    "\n",
    "    # Create list to store the common words\n",
    "    common_words = list()\n",
    "\n",
    "    # Import the knowing english stop words\n",
    "    stop_words = set(stopwords.words('english'))\n",
    "\n",
    "    # Loop over lists and select the NOT stop words\n",
    "    for col in df:\n",
    "        df.loc[:, col] = df.loc[:, col].apply(\n",
    "            lambda x: [item for item in x if item not in stop_words])\n",
    "\n",
    "    for col in df:\n",
    "        for elmnt in df.loc[:, col]:  # loop over lists in df\n",
    "            common_words += elmnt  # append elements of lists to full list\n",
    "\n",
    "    # Count the values of each token words\n",
    "    val_counts = pd.Series(common_words).value_counts()\n",
    "\n",
    "    # Store the n most frequent words\n",
    "    common_words = list(val_counts.head(n).index)\n",
    "\n",
    "    exception_words = ['watch', 'baby', 'mug', 'cotton', 'girl', 'price',\n",
    "                       'care', 'analog', 'showpiece', 'men', 'design', 'home',\n",
    "                       'usb', 'laptop', 'boy', 'dial',\n",
    "                       'woman', 'water', 'ceramic', 'battery']\n",
    "\n",
    "    for i in exception_words:\n",
    "        common_words.remove(i)\n",
    "\n",
    "    print(common_words)\n",
    "\n",
    "    # Update the set of stop words\n",
    "    stop_words.update(common_words)\n",
    "\n",
    "    # Loop over lists and select the NOT stop words\n",
    "    for col in df:\n",
    "        df.loc[:, col] = df.loc[:, col].apply(\n",
    "            lambda x: [item for item in x if item not in stop_words])\n",
    "\n",
    "    return df, stop_words\n",
    "\n",
    "\n",
    "def display_topics(model, feature_names, no_top_words):\n",
    "    \"\"\"Function that display the topics modelled and the most important word in each one\"\"\"\n",
    "    for topic_idx, topic in enumerate(model.components_):\n",
    "        print(\"Topic {}:\".format(topic_idx))\n",
    "        print(\" \".join([\n",
    "            feature_names[i] for i in topic.argsort()[:-no_top_words - 1:-1]\n",
    "        ]))"
   ]
  },
  {
   "cell_type": "markdown",
   "metadata": {},
   "source": [
    "**III. Normalize dataset**"
   ]
  },
  {
   "cell_type": "code",
   "execution_count": 10,
   "metadata": {
    "ExecuteTime": {
     "end_time": "2021-02-23T08:39:25.528791Z",
     "start_time": "2021-02-23T08:39:25.501065Z"
    }
   },
   "outputs": [],
   "source": [
    "# Work with dataframe as string object\n",
    "df = df.astype('string')\n",
    "\n",
    "# Lower the words case\n",
    "for col in df:\n",
    "    df.loc[:, col] = df.loc[:, col].str.lower()"
   ]
  },
  {
   "cell_type": "markdown",
   "metadata": {},
   "source": [
    "*III.1 Bag of words*"
   ]
  },
  {
   "cell_type": "code",
   "execution_count": 11,
   "metadata": {
    "ExecuteTime": {
     "end_time": "2021-02-23T08:39:26.749201Z",
     "start_time": "2021-02-23T08:39:26.648934Z"
    }
   },
   "outputs": [],
   "source": [
    "from nltk import RegexpTokenizer\n",
    "\n",
    "# Using regex to select the only cases we want\n",
    "tokenizer = nltk.RegexpTokenizer(r'[a-z]\\w+')\n",
    "\n",
    "# Apply the tokenizer to the dF\n",
    "for col in df:\n",
    "    df.loc[:, col] = df.loc[:, col].apply(tokenizer.tokenize)"
   ]
  },
  {
   "cell_type": "code",
   "execution_count": 12,
   "metadata": {
    "ExecuteTime": {
     "end_time": "2021-02-23T08:39:29.585496Z",
     "start_time": "2021-02-23T08:39:27.304463Z"
    }
   },
   "outputs": [],
   "source": [
    "from nltk.stem import WordNetLemmatizer\n",
    "\n",
    "# Create the model to lemmatize the words\n",
    "lemmatizer = WordNetLemmatizer()\n",
    "\n",
    "# Apply the model to the dF\n",
    "for col in df:\n",
    "    df.loc[:, col] = df.loc[:, col].apply(\n",
    "        lambda x: [lemmatizer.lemmatize(word) for word in x])"
   ]
  },
  {
   "cell_type": "code",
   "execution_count": 13,
   "metadata": {
    "ExecuteTime": {
     "end_time": "2021-02-23T08:39:29.711337Z",
     "start_time": "2021-02-23T08:39:29.588436Z"
    }
   },
   "outputs": [
    {
     "name": "stdout",
     "output_type": "stream",
     "text": [
      "['value', 'key', 'cm', 'type', 'color', 'material', 'product', 'package', 'sale', 'model', 'number', 'product_specification', 'warranty', 'r', 'brand', 'set', 'yes', 'pack', 'free', 'ideal', 'content', 'replacement', 'feature', 'inch', 'day', 'buy', 'width', 'genuine', 'delivery', 'strap', 'combo', 'cash', 'shipping', 'box', 'guarantee', 'mm', 'flipkart', 'com', 'name', 'weight', 'height', 'online', 'size', 'specification', 'black', 'ml', 'style', 'code', 'shape', 'length']\n"
     ]
    }
   ],
   "source": [
    "# Use the function to delete stop words in the df\n",
    "df, stop_words = delete_stop_words(df, 70)"
   ]
  },
  {
   "cell_type": "code",
   "execution_count": 14,
   "metadata": {
    "ExecuteTime": {
     "end_time": "2021-02-23T08:39:29.726348Z",
     "start_time": "2021-02-23T08:39:29.714084Z"
    }
   },
   "outputs": [],
   "source": [
    "df['concat_features'] = df['product_name'] + df['product_category_tree'] + \\\n",
    "    df['description'] + df['product_specifications']"
   ]
  },
  {
   "cell_type": "code",
   "execution_count": 15,
   "metadata": {
    "ExecuteTime": {
     "end_time": "2021-02-23T08:39:29.773045Z",
     "start_time": "2021-02-23T08:39:29.729438Z"
    }
   },
   "outputs": [
    {
     "data": {
      "text/html": [
       "<div>\n",
       "<style scoped>\n",
       "    .dataframe tbody tr th:only-of-type {\n",
       "        vertical-align: middle;\n",
       "    }\n",
       "\n",
       "    .dataframe tbody tr th {\n",
       "        vertical-align: top;\n",
       "    }\n",
       "\n",
       "    .dataframe thead th {\n",
       "        text-align: right;\n",
       "    }\n",
       "</style>\n",
       "<table border=\"1\" class=\"dataframe\">\n",
       "  <thead>\n",
       "    <tr style=\"text-align: right;\">\n",
       "      <th></th>\n",
       "      <th>product_name</th>\n",
       "      <th>product_category_tree</th>\n",
       "      <th>description</th>\n",
       "      <th>product_specifications</th>\n",
       "      <th>concat_features</th>\n",
       "    </tr>\n",
       "  </thead>\n",
       "  <tbody>\n",
       "    <tr>\n",
       "      <th>0</th>\n",
       "      <td>elegance polyester multicolor abstract eyelet ...</td>\n",
       "      <td>home furnishing curtain accessory curtain eleg...</td>\n",
       "      <td>elegance polyester multicolor abstract eyelet ...</td>\n",
       "      <td>elegance designed door eyelet abstract polyest...</td>\n",
       "      <td>elegance polyester multicolor abstract eyelet ...</td>\n",
       "    </tr>\n",
       "    <tr>\n",
       "      <th>1</th>\n",
       "      <td>sathiyas cotton bath towel</td>\n",
       "      <td>baby care baby bath skin baby bath towel sathi...</td>\n",
       "      <td>sathiyas cotton bath towel bath towel red yell...</td>\n",
       "      <td>machine washable cotton design self design sat...</td>\n",
       "      <td>sathiyas cotton bath towel baby care baby bath...</td>\n",
       "    </tr>\n",
       "    <tr>\n",
       "      <th>2</th>\n",
       "      <td>eurospa cotton terry face towel</td>\n",
       "      <td>baby care baby bath skin baby bath towel euros...</td>\n",
       "      <td>eurospa cotton terry face towel small gsm euro...</td>\n",
       "      <td>cotton terry design shuvam eurospa gsm face to...</td>\n",
       "      <td>eurospa cotton terry face towel baby care baby...</td>\n",
       "    </tr>\n",
       "    <tr>\n",
       "      <th>3</th>\n",
       "      <td>santosh royal fashion cotton printed king size...</td>\n",
       "      <td>home furnishing bed linen bedsheets santosh ro...</td>\n",
       "      <td>santosh royal fashion cotton printed king size...</td>\n",
       "      <td>santosh royal fashion machine washable flat co...</td>\n",
       "      <td>santosh royal fashion cotton printed king size...</td>\n",
       "    </tr>\n",
       "    <tr>\n",
       "      <th>4</th>\n",
       "      <td>jaipur print cotton floral king sized double b...</td>\n",
       "      <td>home furnishing bed linen bedsheets jaipur pri...</td>\n",
       "      <td>jaipur print cotton floral king sized double b...</td>\n",
       "      <td>machine washable jaipur print flat jaipur117 c...</td>\n",
       "      <td>jaipur print cotton floral king sized double b...</td>\n",
       "    </tr>\n",
       "  </tbody>\n",
       "</table>\n",
       "</div>"
      ],
      "text/plain": [
       "                                        product_name                              product_category_tree                                        description                             product_specifications                                    concat_features\n",
       "0  elegance polyester multicolor abstract eyelet ...  home furnishing curtain accessory curtain eleg...  elegance polyester multicolor abstract eyelet ...  elegance designed door eyelet abstract polyest...  elegance polyester multicolor abstract eyelet ...\n",
       "1                         sathiyas cotton bath towel  baby care baby bath skin baby bath towel sathi...  sathiyas cotton bath towel bath towel red yell...  machine washable cotton design self design sat...  sathiyas cotton bath towel baby care baby bath...\n",
       "2                    eurospa cotton terry face towel  baby care baby bath skin baby bath towel euros...  eurospa cotton terry face towel small gsm euro...  cotton terry design shuvam eurospa gsm face to...  eurospa cotton terry face towel baby care baby...\n",
       "3  santosh royal fashion cotton printed king size...  home furnishing bed linen bedsheets santosh ro...  santosh royal fashion cotton printed king size...  santosh royal fashion machine washable flat co...  santosh royal fashion cotton printed king size...\n",
       "4  jaipur print cotton floral king sized double b...  home furnishing bed linen bedsheets jaipur pri...  jaipur print cotton floral king sized double b...  machine washable jaipur print flat jaipur117 c...  jaipur print cotton floral king sized double b..."
      ]
     },
     "execution_count": 15,
     "metadata": {},
     "output_type": "execute_result"
    }
   ],
   "source": [
    "df = df.apply(lambda x: [' '.join(row) for row in x])\n",
    "\n",
    "df.head()"
   ]
  },
  {
   "cell_type": "code",
   "execution_count": 16,
   "metadata": {
    "ExecuteTime": {
     "end_time": "2021-02-23T08:39:30.226964Z",
     "start_time": "2021-02-23T08:39:30.195015Z"
    }
   },
   "outputs": [
    {
     "name": "stdout",
     "output_type": "stream",
     "text": [
      "elegance polyester multicolor abstract eyelet door curtain home furnishing curtain accessory curtain elegance polyester multicolor abstract eyelet elegance polyester multicolor abstract eyelet door curtain floral curtain elegance polyester multicolor abstract eyelet door curtain price curtain enhances look interior curtain made high quality polyester fabric eyelet stitch metal ring make room environment romantic loving curtain ant wrinkle anti shrinkage elegant apparance give home bright modernistic appeal design surreal attention sure steal heart contemporary eyelet valance curtain slide smoothly draw apart first thing morning welcome bright sun ray want wish good morning whole world draw close evening create special moment joyous beauty given soothing print bring home elegant curtain softly filter light room get right amount sunlight elegance polyester multicolor abstract eyelet door curtain general elegance designed door eyelet abstract polyester door curtain id duster25 multicolor dimension curtain body design polyester elegance designed door eyelet abstract polyester door curtain id duster25 multicolor curtain polyester\n"
     ]
    }
   ],
   "source": [
    "print(df['concat_features'][0])"
   ]
  },
  {
   "cell_type": "code",
   "execution_count": 17,
   "metadata": {
    "ExecuteTime": {
     "end_time": "2021-02-23T08:39:31.052893Z",
     "start_time": "2021-02-23T08:39:31.032235Z"
    }
   },
   "outputs": [
    {
     "data": {
      "text/plain": [
       "(1049, 5)"
      ]
     },
     "execution_count": 17,
     "metadata": {},
     "output_type": "execute_result"
    }
   ],
   "source": [
    "df.shape"
   ]
  },
  {
   "cell_type": "markdown",
   "metadata": {},
   "source": [
    "*III.5 LDA*"
   ]
  },
  {
   "cell_type": "code",
   "execution_count": 18,
   "metadata": {
    "ExecuteTime": {
     "end_time": "2021-02-23T08:44:05.058464Z",
     "start_time": "2021-02-23T08:39:32.357907Z"
    }
   },
   "outputs": [
    {
     "name": "stdout",
     "output_type": "stream",
     "text": [
      "unigram with LDA done\n",
      "bigram with LDA done\n",
      "trigram with LDA done\n",
      "1 to 2gram with LDA done\n",
      "1 to 3gram with LDA done\n"
     ]
    }
   ],
   "source": [
    "import numpy as np\n",
    "from sklearn.feature_extraction.text import CountVectorizer\n",
    "from sklearn.decomposition import LatentDirichletAllocation\n",
    "from sklearn.model_selection import GridSearchCV\n",
    "\n",
    "unigram = dict()\n",
    "bigram = dict()\n",
    "trigram = dict()\n",
    "ubgram = dict()\n",
    "utgram = dict()\n",
    "\n",
    "# Initialize some count vectorizer with 1, 2, 3,\n",
    "# 1to2 or 1to3 n-grams\n",
    "tfvec_uni = CountVectorizer(min_df=30, max_df=0.9, stop_words=stop_words)\n",
    "\n",
    "tfvec_bi = CountVectorizer(min_df=30,\n",
    "                           max_df=0.9,\n",
    "                           ngram_range=(2, 2),\n",
    "                           stop_words=stop_words)\n",
    "\n",
    "tfvec_tri = CountVectorizer(min_df=30,\n",
    "                            max_df=0.9,\n",
    "                            ngram_range=(3, 3),\n",
    "                            stop_words=stop_words)\n",
    "\n",
    "tfvec_ub = CountVectorizer(min_df=30,\n",
    "                           max_df=0.9,\n",
    "                           ngram_range=(1, 2),\n",
    "                           stop_words=stop_words)\n",
    "\n",
    "tfvec_ut = CountVectorizer(min_df=30,\n",
    "                           max_df=0.9,\n",
    "                           ngram_range=(1, 3),\n",
    "                           stop_words=stop_words)\n",
    "\n",
    "# Fit and transform the bag of words\n",
    "tf_uni = tfvec_uni.fit_transform(df['concat_features'])\n",
    "tf_bi = tfvec_bi.fit_transform(df['concat_features'])\n",
    "tf_tri = tfvec_tri.fit_transform(df['concat_features'])\n",
    "tf_ub = tfvec_ub.fit_transform(df['concat_features'])\n",
    "tf_ut = tfvec_ut.fit_transform(df['concat_features'])\n",
    "\n",
    "# Collect the features\n",
    "tf_feat_uni = tfvec_uni.get_feature_names()\n",
    "tf_feat_bi = tfvec_bi.get_feature_names()\n",
    "tf_feat_tri = tfvec_tri.get_feature_names()\n",
    "tf_feat_ub = tfvec_ub.get_feature_names()\n",
    "tf_feat_ut = tfvec_ut.get_feature_names()\n",
    "\n",
    "# Set the parameters for grid search\n",
    "lda_param = {\n",
    "    'n_components': range(7, 9),\n",
    "    'max_iter': [5, 10],\n",
    "    'learning_decay': [0.5, 0.7, 0.9],\n",
    "    'learning_method': ['online'],\n",
    "    #    'learning_offset': [10, 20, 50],\n",
    "    'random_state': [0]\n",
    "}\n",
    "\n",
    "lda = LatentDirichletAllocation()\n",
    "\n",
    "# Initiate the grid search\n",
    "grid1 = GridSearchCV(lda, param_grid=lda_param)\n",
    "grid2 = GridSearchCV(lda, param_grid=lda_param)\n",
    "grid3 = GridSearchCV(lda, param_grid=lda_param)\n",
    "grid4 = GridSearchCV(lda, param_grid=lda_param)\n",
    "grid5 = GridSearchCV(lda, param_grid=lda_param)\n",
    "\n",
    "# Fit all the n-grams\n",
    "grid_uni = grid1.fit(tf_uni)\n",
    "print('unigram with LDA done')\n",
    "grid_bi = grid2.fit(tf_bi)\n",
    "print('bigram with LDA done')\n",
    "grid_tri = grid3.fit(tf_tri)\n",
    "print('trigram with LDA done')\n",
    "grid_ub = grid4.fit(tf_ub)\n",
    "print('1 to 2gram with LDA done')\n",
    "grid_ut = grid5.fit(tf_ut)\n",
    "print('1 to 3gram with LDA done')\n",
    "\n",
    "# Record the results\n",
    "unigram['shape'] = tf_uni.shape\n",
    "bigram['shape'] = tf_bi.shape\n",
    "trigram['shape'] = tf_tri.shape\n",
    "ubgram['shape'] = tf_ub.shape\n",
    "utgram['shape'] = tf_ut.shape\n",
    "\n",
    "unigram['bestmodels'] = grid_uni.best_params_\n",
    "bigram['bestmodels'] = grid_bi.best_params_\n",
    "trigram['bestmodels'] = grid_tri.best_params_\n",
    "ubgram['bestmodels'] = grid_ub.best_params_\n",
    "utgram['bestmodels'] = grid_ut.best_params_\n",
    "\n",
    "unigram['likelyhood'] = grid_uni.best_score_\n",
    "bigram['likelyhood'] = grid_bi.best_score_\n",
    "trigram['likelyhood'] = grid_tri.best_score_\n",
    "ubgram['likelyhood'] = grid_ub.best_score_\n",
    "utgram['likelyhood'] = grid_ut.best_score_\n",
    "\n",
    "best_lda_uni = LatentDirichletAllocation(**unigram['bestmodels']).fit(tf_uni)\n",
    "best_lda_bi = LatentDirichletAllocation(**unigram['bestmodels']).fit(tf_bi)\n",
    "best_lda_tri = LatentDirichletAllocation(**unigram['bestmodels']).fit(tf_tri)\n",
    "best_lda_ub = LatentDirichletAllocation(**unigram['bestmodels']).fit(tf_ub)\n",
    "best_lda_ut = LatentDirichletAllocation(**unigram['bestmodels']).fit(tf_ut)\n",
    "\n",
    "unigram['perplexity'] = best_lda_uni.perplexity(tf_uni)\n",
    "bigram['perplexity'] = best_lda_bi.perplexity(tf_bi)\n",
    "trigram['perplexity'] = best_lda_tri.perplexity(tf_tri)\n",
    "ubgram['perplexity'] = best_lda_ub.perplexity(tf_ub)\n",
    "utgram['perplexity'] = best_lda_ut.perplexity(tf_ut)"
   ]
  },
  {
   "cell_type": "code",
   "execution_count": 19,
   "metadata": {
    "ExecuteTime": {
     "end_time": "2021-02-23T08:44:05.074620Z",
     "start_time": "2021-02-23T08:44:05.060516Z"
    }
   },
   "outputs": [],
   "source": [
    "unigram = pd.Series(unigram, name='unigram')\n",
    "bigram = pd.Series(bigram, name='bigram')\n",
    "trigram = pd.Series(trigram, name='trigram')\n",
    "ubgram = pd.Series(ubgram, name='1-2gram')\n",
    "utgram = pd.Series(utgram, name='1-3gram')"
   ]
  },
  {
   "cell_type": "code",
   "execution_count": 20,
   "metadata": {
    "ExecuteTime": {
     "end_time": "2021-02-23T08:44:05.120569Z",
     "start_time": "2021-02-23T08:44:05.078560Z"
    }
   },
   "outputs": [
    {
     "data": {
      "text/html": [
       "<div>\n",
       "<style scoped>\n",
       "    .dataframe tbody tr th:only-of-type {\n",
       "        vertical-align: middle;\n",
       "    }\n",
       "\n",
       "    .dataframe tbody tr th {\n",
       "        vertical-align: top;\n",
       "    }\n",
       "\n",
       "    .dataframe thead th {\n",
       "        text-align: right;\n",
       "    }\n",
       "</style>\n",
       "<table border=\"1\" class=\"dataframe\">\n",
       "  <thead>\n",
       "    <tr style=\"text-align: right;\">\n",
       "      <th></th>\n",
       "      <th>unigram</th>\n",
       "      <th>bigram</th>\n",
       "      <th>trigram</th>\n",
       "      <th>1-2gram</th>\n",
       "      <th>1-3gram</th>\n",
       "    </tr>\n",
       "  </thead>\n",
       "  <tbody>\n",
       "    <tr>\n",
       "      <th>shape</th>\n",
       "      <td>(1049, 241)</td>\n",
       "      <td>(1049, 125)</td>\n",
       "      <td>(1049, 79)</td>\n",
       "      <td>(1049, 366)</td>\n",
       "      <td>(1049, 445)</td>\n",
       "    </tr>\n",
       "    <tr>\n",
       "      <th>bestmodels</th>\n",
       "      <td>{'learning_decay': 0.5, 'learning_method': 'on...</td>\n",
       "      <td>{'learning_decay': 0.5, 'learning_method': 'on...</td>\n",
       "      <td>{'learning_decay': 0.9, 'learning_method': 'on...</td>\n",
       "      <td>{'learning_decay': 0.7, 'learning_method': 'on...</td>\n",
       "      <td>{'learning_decay': 0.7, 'learning_method': 'on...</td>\n",
       "    </tr>\n",
       "    <tr>\n",
       "      <th>likelyhood</th>\n",
       "      <td>-39733.80037</td>\n",
       "      <td>-8775.793902</td>\n",
       "      <td>-3894.819252</td>\n",
       "      <td>-53251.155218</td>\n",
       "      <td>-59403.243188</td>\n",
       "    </tr>\n",
       "    <tr>\n",
       "      <th>perplexity</th>\n",
       "      <td>71.491943</td>\n",
       "      <td>32.216908</td>\n",
       "      <td>29.902445</td>\n",
       "      <td>99.112704</td>\n",
       "      <td>102.914762</td>\n",
       "    </tr>\n",
       "  </tbody>\n",
       "</table>\n",
       "</div>"
      ],
      "text/plain": [
       "                                                      unigram                                             bigram                                            trigram                                            1-2gram                                            1-3gram\n",
       "shape                                             (1049, 241)                                        (1049, 125)                                         (1049, 79)                                        (1049, 366)                                        (1049, 445)\n",
       "bestmodels  {'learning_decay': 0.5, 'learning_method': 'on...  {'learning_decay': 0.5, 'learning_method': 'on...  {'learning_decay': 0.9, 'learning_method': 'on...  {'learning_decay': 0.7, 'learning_method': 'on...  {'learning_decay': 0.7, 'learning_method': 'on...\n",
       "likelyhood                                       -39733.80037                                       -8775.793902                                       -3894.819252                                      -53251.155218                                      -59403.243188\n",
       "perplexity                                          71.491943                                          32.216908                                          29.902445                                          99.112704                                         102.914762"
      ]
     },
     "execution_count": 20,
     "metadata": {},
     "output_type": "execute_result"
    }
   ],
   "source": [
    "LDAresults = pd.DataFrame(pd.concat([unigram, bigram, trigram, ubgram, utgram], axis=1))\n",
    "LDAresults"
   ]
  },
  {
   "cell_type": "code",
   "execution_count": 21,
   "metadata": {
    "ExecuteTime": {
     "end_time": "2021-02-23T08:44:15.078515Z",
     "start_time": "2021-02-23T08:44:14.935543Z"
    }
   },
   "outputs": [
    {
     "data": {
      "text/plain": [
       "<StemContainer object of 3 artists>"
      ]
     },
     "execution_count": 21,
     "metadata": {},
     "output_type": "execute_result"
    },
    {
     "data": {
      "image/png": "[encoded data removed]",
      "text/plain": [
       "<Figure size 432x288 with 1 Axes>"
      ]
     },
     "metadata": {
      "needs_background": "light"
     },
     "output_type": "display_data"
    }
   ],
   "source": [
    "plt.title('Perplexity per n-grams')\n",
    "plt.stem(LDAresults.columns, LDAresults.iloc[3, :].values)"
   ]
  },
  {
   "cell_type": "code",
   "execution_count": 22,
   "metadata": {
    "ExecuteTime": {
     "end_time": "2021-02-23T08:44:15.887689Z",
     "start_time": "2021-02-23T08:44:15.736947Z"
    }
   },
   "outputs": [
    {
     "data": {
      "text/plain": [
       "<StemContainer object of 3 artists>"
      ]
     },
     "execution_count": 22,
     "metadata": {},
     "output_type": "execute_result"
    },
    {
     "data": {
      "image/png": "[encoded data removed]",
      "text/plain": [
       "<Figure size 432x288 with 1 Axes>"
      ]
     },
     "metadata": {
      "needs_background": "light"
     },
     "output_type": "display_data"
    }
   ],
   "source": [
    "plt.title('Likelihood per n-grams')\n",
    "plt.stem(LDAresults.columns, LDAresults.iloc[2, :].values)"
   ]
  },
  {
   "cell_type": "code",
   "execution_count": 23,
   "metadata": {
    "ExecuteTime": {
     "end_time": "2021-02-23T08:44:17.565451Z",
     "start_time": "2021-02-23T08:44:17.544028Z"
    }
   },
   "outputs": [
    {
     "name": "stdout",
     "output_type": "stream",
     "text": [
      "{'learning_decay': 0.7, 'learning_method': 'online', 'max_iter': 10, 'n_components': 7, 'random_state': 0}\n",
      "{'learning_decay': 0.7, 'learning_method': 'online', 'max_iter': 10, 'n_components': 8, 'random_state': 0}\n"
     ]
    }
   ],
   "source": [
    "print(LDAresults['1-2gram']['bestmodels'])\n",
    "print(LDAresults['1-3gram']['bestmodels'])"
   ]
  },
  {
   "cell_type": "code",
   "execution_count": 24,
   "metadata": {
    "ExecuteTime": {
     "end_time": "2021-02-23T08:44:22.475942Z",
     "start_time": "2021-02-23T08:44:22.455885Z"
    }
   },
   "outputs": [
    {
     "name": "stdout",
     "output_type": "stream",
     "text": [
      "Topic 0:\n",
      "design polyester blanket brown home single id furnishing washable home furnishing\n",
      "Topic 1:\n",
      "light blue kitchen led price dark glass white water plastic\n",
      "Topic 2:\n",
      "watch analog men dial analog watch woman wrist wrist watch resistant water\n",
      "Topic 3:\n",
      "showpiece wall home cover decor price home decor need festive room\n",
      "Topic 4:\n",
      "laptop print usb accessory quality computer battery multicolor high summary\n",
      "Topic 5:\n",
      "covered adapter service power port router wireless usb steel damage\n",
      "Topic 6:\n",
      "baby skin girl cotton care baby girl fabric boy towel baby boy\n",
      "Topic 7:\n",
      "mug ceramic coffee safe coffee mug ceramic mug care gift beauty perfect\n"
     ]
    }
   ],
   "source": [
    "display_topics(best_lda_ub, tf_feat_ub, 10)"
   ]
  },
  {
   "cell_type": "code",
   "execution_count": 25,
   "metadata": {
    "ExecuteTime": {
     "end_time": "2021-02-23T08:44:23.941784Z",
     "start_time": "2021-02-23T08:44:23.919800Z"
    }
   },
   "outputs": [
    {
     "name": "stdout",
     "output_type": "stream",
     "text": [
      "Topic 0:\n",
      "mug ceramic kitchen coffee safe coffee mug ceramic mug dining kitchen dining capacity\n",
      "Topic 1:\n",
      "design polyester blanket towel home cotton brown id single double\n",
      "Topic 2:\n",
      "showpiece wall home decor price best gift home decor need festive\n",
      "Topic 3:\n",
      "watch analog dial analog watch wrist men wrist watch water resistant woman\n",
      "Topic 4:\n",
      "care beauty deodorant men personal personal care beauty personal beauty personal care woman kit\n",
      "Topic 5:\n",
      "usb light covered battery power led adapter service port router\n",
      "Topic 6:\n",
      "baby girl baby girl fabric cotton boy care cover baby boy pattern\n",
      "Topic 7:\n",
      "laptop skin print multicolor quality accessory easy computer high price\n"
     ]
    }
   ],
   "source": [
    "display_topics(best_lda_ut, tf_feat_ut, 10)"
   ]
  },
  {
   "cell_type": "code",
   "execution_count": null,
   "metadata": {
    "ExecuteTime": {
     "end_time": "2021-02-19T16:59:57.726059Z",
     "start_time": "2021-02-19T16:59:53.905252Z"
    }
   },
   "outputs": [],
   "source": [
    "import pyLDAvis\n",
    "import pyLDAvis.sklearn\n",
    "pyLDAvis.enable_notebook()\n",
    "\n",
    "panel = pyLDAvis.sklearn.prepare(best_lda_ub, tf_ub, tfvec_ub, mds='tsne')\n",
    "panel"
   ]
  },
  {
   "cell_type": "raw",
   "metadata": {
    "ExecuteTime": {
     "end_time": "2021-02-19T16:47:42.374931Z",
     "start_time": "2021-02-19T16:47:41.977100Z"
    }
   },
   "source": [
    "import pyLDAvis\n",
    "import pyLDAvis.sklearn\n",
    "pyLDAvis.enable_notebook()\n",
    "\n",
    "panel = pyLDAvis.sklearn.prepare(best_lda_ut, tf_ut, tfvec_ut, mds='tsne')\n",
    "panel"
   ]
  },
  {
   "cell_type": "code",
   "execution_count": null,
   "metadata": {
    "ExecuteTime": {
     "end_time": "2021-02-19T17:01:24.382712Z",
     "start_time": "2021-02-19T17:01:24.374075Z"
    }
   },
   "outputs": [],
   "source": [
    "import warnings\n",
    "warnings.filterwarnings(\"ignore\") "
   ]
  },
  {
   "cell_type": "code",
   "execution_count": null,
   "metadata": {
    "ExecuteTime": {
     "end_time": "2021-02-19T17:01:22.706387Z",
     "start_time": "2021-02-19T17:01:22.698414Z"
    }
   },
   "outputs": [],
   "source": [
    "pyLDAvis.save_html(panel, 'LDAvis.html')"
   ]
  },
  {
   "cell_type": "code",
   "execution_count": 26,
   "metadata": {
    "ExecuteTime": {
     "end_time": "2021-02-23T08:46:25.482006Z",
     "start_time": "2021-02-23T08:46:24.250710Z"
    }
   },
   "outputs": [
    {
     "data": {
      "image/png": "[encoded data removed]",
      "text/plain": [
       "<Figure size 432x288 with 1 Axes>"
      ]
     },
     "metadata": {
      "needs_background": "light"
     },
     "output_type": "display_data"
    }
   ],
   "source": [
    "import matplotlib.pyplot as plt\n",
    "from sklearn.cluster import KMeans\n",
    "\n",
    "# Check the best number of topics with Kmeans\n",
    "out_lda = best_lda_ub.transform(tf_ub)\n",
    "distortions = list()\n",
    "\n",
    "K = range(1, 15)\n",
    "\n",
    "for k in K:\n",
    "    k_res = KMeans(n_clusters=k)\n",
    "    k_res.fit(out_lda)\n",
    "    distortions.append(k_res.inertia_)\n",
    "\n",
    "# Plot the results\n",
    "plt.plot(K, distortions, 'bx-')\n",
    "plt.xlabel('K')\n",
    "plt.ylabel('Distortion')\n",
    "plt.title('Elbow value: help selecting K number')\n",
    "\n",
    "plt.show()"
   ]
  },
  {
   "cell_type": "code",
   "execution_count": 27,
   "metadata": {
    "ExecuteTime": {
     "end_time": "2021-02-23T08:46:30.659011Z",
     "start_time": "2021-02-23T08:46:29.523704Z"
    }
   },
   "outputs": [
    {
     "data": {
      "image/png": "[encoded data removed]",
      "text/plain": [
       "<Figure size 432x288 with 1 Axes>"
      ]
     },
     "metadata": {
      "needs_background": "light"
     },
     "output_type": "display_data"
    }
   ],
   "source": [
    "# Check the best number of topics with Kmeans\n",
    "out_lda = best_lda_ut.transform(tf_ut)\n",
    "distortions = list()\n",
    "\n",
    "K = range(1, 15)\n",
    "\n",
    "for k in K:\n",
    "    k_res = KMeans(n_clusters=k)\n",
    "    k_res.fit(out_lda)\n",
    "    distortions.append(k_res.inertia_)\n",
    "\n",
    "# Plot the results\n",
    "plt.plot(K, distortions, 'bx-')\n",
    "plt.xlabel('K')\n",
    "plt.ylabel('Distortion')\n",
    "plt.title('Elbow value: help selecting K number')\n",
    "\n",
    "plt.show()"
   ]
  },
  {
   "cell_type": "code",
   "execution_count": 49,
   "metadata": {
    "ExecuteTime": {
     "end_time": "2021-02-23T09:05:35.628890Z",
     "start_time": "2021-02-23T09:05:35.239096Z"
    }
   },
   "outputs": [
    {
     "data": {
      "image/png": "[encoded data removed]",
      "text/plain": [
       "<Figure size 432x432 with 1 Axes>"
      ]
     },
     "metadata": {
      "needs_background": "light"
     },
     "output_type": "display_data"
    }
   ],
   "source": [
    "from sklearn.decomposition import TruncatedSVD, PCA\n",
    "from sklearn.manifold import Isomap, TSNE\n",
    "from sklearn.cluster import KMeans\n",
    "import matplotlib.pyplot as plt\n",
    "import seaborn as sns\n",
    "\n",
    "\n",
    "# Predict with kmeans clustering\n",
    "kmeans = KMeans(n_clusters=7, init='k-means++').fit(out_lda)\n",
    "y_pred = kmeans.predict(out_lda)\n",
    "\n",
    "# Apply some reduction dimension\n",
    "pca = PCA(n_components=2)\n",
    "out_pca = pca.fit_transform(out_lda)\n",
    "\n",
    "fig = plt.figure(figsize=(6, 6))\n",
    "ax = fig.add_subplot(111)\n",
    "sns.scatterplot(x=out_pca[:, 0], y=out_pca[:, 1], hue=df['product_category_tree'])\n",
    "plt.title('Kmeans with PCA reduction')\n",
    "\n",
    "\n",
    "plt.show()"
   ]
  },
  {
   "cell_type": "code",
   "execution_count": 52,
   "metadata": {
    "ExecuteTime": {
     "end_time": "2021-02-23T09:06:31.681583Z",
     "start_time": "2021-02-23T09:06:30.639287Z"
    }
   },
   "outputs": [
    {
     "data": {
      "image/png": "[encoded data removed]",
      "text/plain": [
       "<Figure size 432x432 with 1 Axes>"
      ]
     },
     "metadata": {
      "needs_background": "light"
     },
     "output_type": "display_data"
    }
   ],
   "source": [
    "out_iso = Isomap(n_components=2, n_neighbors=40).fit_transform(out_lda)\n",
    "\n",
    "fig = plt.figure(figsize=(6, 6))\n",
    "ax = fig.add_subplot(111)\n",
    "sns.scatterplot(x=out_iso[:, 0], y=out_iso[:, 1], hue=df['product_category_tree'], legend=False)\n",
    "plt.title('Kmeans with Isomap reduction')\n",
    "\n",
    "plt.show()"
   ]
  },
  {
   "cell_type": "code",
   "execution_count": 53,
   "metadata": {
    "ExecuteTime": {
     "end_time": "2021-02-23T09:07:11.477917Z",
     "start_time": "2021-02-23T09:07:05.876282Z"
    }
   },
   "outputs": [
    {
     "data": {
      "image/png": "[encoded data removed]",
      "text/plain": [
       "<Figure size 432x432 with 1 Axes>"
      ]
     },
     "metadata": {
      "needs_background": "light"
     },
     "output_type": "display_data"
    }
   ],
   "source": [
    "out_tsne = TSNE(n_components=2,\n",
    "                perplexity=170,\n",
    "                early_exaggeration=1,\n",
    "                n_iter=2000).fit_transform(out_lda)\n",
    "\n",
    "fig = plt.figure(figsize=(6, 6))\n",
    "ax = fig.add_subplot(111)\n",
    "sns.scatterplot(x=out_tsne[:, 0], y=out_tsne[:, 1], hue=df['product_category_tree'], legend=False)\n",
    "plt.title('Kmeans with tSNE reduction')\n",
    "\n",
    "plt.show()"
   ]
  },
  {
   "cell_type": "code",
   "execution_count": 47,
   "metadata": {
    "ExecuteTime": {
     "end_time": "2021-02-23T08:59:19.088633Z",
     "start_time": "2021-02-23T08:59:18.990634Z"
    }
   },
   "outputs": [
    {
     "name": "stdout",
     "output_type": "stream",
     "text": [
      "***** LDA *****\n",
      "Silhouette Coefficient: 0.707\n",
      "Davies Bouldin score: 0.480\n",
      "***** ISO *****\n",
      "Silhouette Coefficient: 0.600\n",
      "Davies Bouldin score: 0.579\n",
      "***** PCA *****\n",
      "Silhouette Coefficient: 0.408\n",
      "Davies Bouldin score: 1.392\n",
      "***** tSNE *****\n",
      "Silhouette Coefficient: 0.782\n",
      "Davies Bouldin score: 0.305\n"
     ]
    }
   ],
   "source": [
    "from sklearn import metrics\n",
    "\n",
    "# Print the results \n",
    "models = {\n",
    "    'LDA': out_lda, \n",
    "    'ISO': out_iso,\n",
    "    'PCA': out_pca,\n",
    "    'tSNE': out_tsne\n",
    "}\n",
    "\n",
    "for i, j in models.items():\n",
    "    print('*****', i, '*****')\n",
    "    print(\"Silhouette Coefficient: %0.3f\"\n",
    "      % metrics.silhouette_score(j, kmeans.labels_))\n",
    "    print(\"Davies Bouldin score: %0.3f\"\n",
    "      % metrics.davies_bouldin_score(j, kmeans.labels_))"
   ]
  },
  {
   "cell_type": "code",
   "execution_count": null,
   "metadata": {
    "ExecuteTime": {
     "end_time": "2021-02-19T17:05:17.305029Z",
     "start_time": "2021-02-19T17:05:16.442320Z"
    }
   },
   "outputs": [],
   "source": [
    "from wordcloud import WordCloud \n",
    "\n",
    "terms_count = 10\n",
    "\n",
    "for idx, topic in enumerate(best_lda_ut.components_):    \n",
    "    print('Topic# ',idx+1)\n",
    "    abs_topic = abs(topic)\n",
    "    topic_terms = [[tf_feat_ut[i],topic[i]] for i in abs_topic.argsort()[:-terms_count-1:-1]]\n",
    "    topic_terms_sorted = [[tf_feat_ut[i], topic[i]] for i in abs_topic.argsort()[:-terms_count - 1:-1]]\n",
    "    topic_words = []\n",
    "    \n",
    "    for i in range(terms_count):\n",
    "        topic_words.append(topic_terms_sorted[i][0])\n",
    "    print(','.join( word for word in topic_words))\n",
    "    print(\"\")\n",
    "    dict_word_frequency = {}\n",
    "\n",
    "    for i in range(terms_count):\n",
    "        dict_word_frequency[topic_terms_sorted[i][0]] = topic_terms_sorted[i][1]\n",
    "    \n",
    "    # Record the word clouds as png \n",
    "    wcloud = WordCloud(background_color=\"white\",mask=None, max_words=100,\\\n",
    "                        max_font_size=60,min_font_size=10,prefer_horizontal=0.9,\n",
    "                        contour_width=3,contour_color='black')\n",
    "    wcloud.generate_from_frequencies(dict_word_frequency)       \n",
    "    plt.imshow(wcloud, interpolation='bilinear')\n",
    "    plt.axis(\"off\")\n",
    "    plt.savefig(\"Topic#\"+str(idx+1), format=\"png\")"
   ]
  },
  {
   "cell_type": "code",
   "execution_count": 43,
   "metadata": {
    "ExecuteTime": {
     "end_time": "2021-02-23T08:57:06.883105Z",
     "start_time": "2021-02-23T08:57:06.854100Z"
    }
   },
   "outputs": [
    {
     "data": {
      "text/plain": [
       "Beauty and Personal Care      150\n",
       "Computers                     150\n",
       "Baby Care                     150\n",
       "Watches                       150\n",
       "Kitchen & Dining              150\n",
       "Home Furnishing               150\n",
       "Home Decor & Festive Needs    149\n",
       "Name: product_category_tree, dtype: int64"
      ]
     },
     "execution_count": 43,
     "metadata": {},
     "output_type": "execute_result"
    }
   ],
   "source": [
    "import re\n",
    "\n",
    "# Collect labels\n",
    "df['product_category_tree'] = df['product_category_tree'].apply(\n",
    "    lambda x: re.split(' >>', x[2:]))\n",
    "df['product_category_tree'] = df['product_category_tree'].apply(lambda x: x[0])\n",
    "\n",
    "df['product_category_tree'].value_counts()"
   ]
  },
  {
   "cell_type": "code",
   "execution_count": null,
   "metadata": {
    "ExecuteTime": {
     "end_time": "2021-02-21T07:16:07.022624Z",
     "start_time": "2021-02-21T07:16:06.850904Z"
    }
   },
   "outputs": [],
   "source": [
    "# Run the notebook below to use needed function\n",
    "%run P6_D_BenchmarkFunction.ipynb"
   ]
  },
  {
   "cell_type": "code",
   "execution_count": null,
   "metadata": {
    "ExecuteTime": {
     "end_time": "2021-02-21T07:24:08.866415Z",
     "start_time": "2021-02-21T07:24:08.856235Z"
    }
   },
   "outputs": [],
   "source": [
    "# List of models are accepted by the function below\n",
    "models_B = list([\n",
    "    dum(),\n",
    "    ran_for([50, 75, 100, 125], ['gini', 'entropy']),\n",
    "    #grad_boo(['deviance'], [0.01, 0.1, 0.3, 0.5], [50, 75, 100, 125]),\n",
    "    xg_boo([50, 75, 100, 125, 150, 175, 200], ['gbtree', 'dart']),\n",
    "    knn([3, 5, 7, 9], ['uniform', 'distance']),\n",
    "    svc(['l1', 'l2'], ['squared_hinge']),\n",
    "    svc_kern(np.arange(0.5, 1, 30), ['poly', 'rbf', 'sigmoid'])\n",
    "])"
   ]
  },
  {
   "cell_type": "code",
   "execution_count": null,
   "metadata": {
    "ExecuteTime": {
     "end_time": "2021-02-21T07:17:11.453977Z",
     "start_time": "2021-02-21T07:16:16.126631Z"
    }
   },
   "outputs": [],
   "source": [
    "# Launch the benchmark with standardizer\n",
    "standard_results = model_benchmark(test, df['product_category_tree'], 'standard', models_B)\n",
    "standard_results['perf'].round(2)"
   ]
  },
  {
   "cell_type": "code",
   "execution_count": null,
   "metadata": {
    "ExecuteTime": {
     "end_time": "2021-02-21T07:27:46.717458Z",
     "start_time": "2021-02-21T07:24:12.972576Z"
    }
   },
   "outputs": [],
   "source": [
    "# Launch the benchmark with normalizer\n",
    "normal_results = model_benchmark(test, df['product_category_tree'], 'normal', models_B)\n",
    "normal_results['perf'].round(2)"
   ]
  },
  {
   "cell_type": "code",
   "execution_count": null,
   "metadata": {
    "ExecuteTime": {
     "end_time": "2021-02-21T07:30:40.648686Z",
     "start_time": "2021-02-21T07:30:40.266211Z"
    }
   },
   "outputs": [],
   "source": [
    "# Concatenate the results\n",
    "all_results = pd.concat([\n",
    "    standard_results['perf'],\n",
    "    normal_results['perf']\n",
    "])\n",
    "\n",
    "# Plot the results\n",
    "title = 'Accuracy on test sets : Recognition text categories based on LDA output'\n",
    "ax = all_results.iloc[[1, 4], :].T.plot.bar(figsize=(12, 6), title=title)\n",
    "ax.legend(['Standardizer', 'Normalizer']);"
   ]
  }
 ],
 "metadata": {
  "kernelspec": {
   "display_name": "Python 3",
   "language": "python",
   "name": "python3"
  },
  "language_info": {
   "codemirror_mode": {
    "name": "ipython",
    "version": 3
   },
   "file_extension": ".py",
   "mimetype": "text/x-python",
   "name": "python",
   "nbconvert_exporter": "python",
   "pygments_lexer": "ipython3",
   "version": "3.8.5"
  }
 },
 "nbformat": 4,
 "nbformat_minor": 4
}
